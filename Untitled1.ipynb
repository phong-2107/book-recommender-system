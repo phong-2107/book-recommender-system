{
 "cells": [
  {
   "cell_type": "code",
   "execution_count": null,
   "id": "235d40d1-d57f-44f8-bfef-8d065ad64b7d",
   "metadata": {},
   "outputs": [],
   "source": [
    "!{sys.executable} -m pip install numpy pandas scikit-learn"
   ]
  },
  {
   "cell_type": "code",
   "execution_count": null,
   "id": "b2e49819-ddb6-4899-b3ae-f0a9623ed4ff",
   "metadata": {},
   "outputs": [],
   "source": [
    "import sys\n",
    "print(sys.executable)"
   ]
  },
  {
   "cell_type": "code",
   "execution_count": null,
   "id": "67f3f99f-d10e-4d95-895c-b7d3fbc75fc1",
   "metadata": {},
   "outputs": [],
   "source": [
    "c:\\users\\admin\\appdata\\local\\programs\\python\\python39\\python.exe -m pip install numpy pandas scikit-learn"
   ]
  },
  {
   "cell_type": "code",
   "execution_count": null,
   "id": "eaadcf1d-97f2-4237-8c3e-f8a550ca8006",
   "metadata": {},
   "outputs": [],
   "source": [
    "!c:\\users\\admin\\appdata\\local\\programs\\python\\python39\\python.exe -m pip install numpy pandas scikit-learn"
   ]
  },
  {
   "cell_type": "code",
   "execution_count": null,
   "id": "d963a8eb-3b01-4e51-96b3-8ab002decec6",
   "metadata": {},
   "outputs": [],
   "source": []
  },
  {
   "cell_type": "code",
   "execution_count": null,
   "id": "99f3ef23-5849-4091-87cf-daf8e9bc4e74",
   "metadata": {},
   "outputs": [],
   "source": []
  }
 ],
 "metadata": {
  "kernelspec": {
   "display_name": "Python 3 (ipykernel)",
   "language": "python",
   "name": "python3"
  },
  "language_info": {
   "codemirror_mode": {
    "name": "ipython",
    "version": 3
   },
   "file_extension": ".py",
   "mimetype": "text/x-python",
   "name": "python",
   "nbconvert_exporter": "python",
   "pygments_lexer": "ipython3",
   "version": "3.9.0"
  }
 },
 "nbformat": 4,
 "nbformat_minor": 5
}
